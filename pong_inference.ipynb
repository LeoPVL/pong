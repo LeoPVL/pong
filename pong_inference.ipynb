{
  "nbformat": 4,
  "nbformat_minor": 0,
  "metadata": {
    "colab": {
      "name": "pong_inference.ipynb",
      "provenance": [],
      "collapsed_sections": []
    },
    "kernelspec": {
      "name": "python3",
      "display_name": "Python 3"
    },
    "accelerator": "GPU"
  },
  "cells": [
    {
      "cell_type": "code",
      "metadata": {
        "id": "t11pxZ-dqdZb",
        "colab_type": "code",
        "colab": {}
      },
      "source": [
        "import numpy as np\n",
        "import matplotlib.pyplot as plt\n",
        "%matplotlib inline\n",
        "import gym\n",
        "import tensorflow as tf"
      ],
      "execution_count": 1,
      "outputs": []
    },
    {
      "cell_type": "code",
      "metadata": {
        "id": "7lX6bBI0qngQ",
        "colab_type": "code",
        "colab": {
          "base_uri": "https://localhost:8080/",
          "height": 34
        },
        "outputId": "17adf0c5-9976-406d-8d8d-912774dc4241"
      },
      "source": [
        "from google.colab import drive\n",
        "drive.mount('/content/drive')"
      ],
      "execution_count": 2,
      "outputs": [
        {
          "output_type": "stream",
          "text": [
            "Mounted at /content/drive\n"
          ],
          "name": "stdout"
        }
      ]
    },
    {
      "cell_type": "code",
      "metadata": {
        "id": "EhRdPgyMrbpa",
        "colab_type": "code",
        "colab": {
          "base_uri": "https://localhost:8080/",
          "height": 34
        },
        "outputId": "f4fbc487-8305-409b-f80d-c097c1cfacaa"
      },
      "source": [
        "%cd \"/content/drive/My Drive/pong\""
      ],
      "execution_count": 3,
      "outputs": [
        {
          "output_type": "stream",
          "text": [
            "/content/drive/My Drive/pong\n"
          ],
          "name": "stdout"
        }
      ]
    },
    {
      "cell_type": "code",
      "metadata": {
        "id": "uT6KFh41qqcH",
        "colab_type": "code",
        "colab": {}
      },
      "source": [
        "env = gym.make('Pong-v0')\n",
        "NUM_ACTIONS = env.action_space.n"
      ],
      "execution_count": 4,
      "outputs": []
    },
    {
      "cell_type": "code",
      "metadata": {
        "id": "pv4JxBeXqthb",
        "colab_type": "code",
        "colab": {}
      },
      "source": [
        "lr = 0.1"
      ],
      "execution_count": 5,
      "outputs": []
    },
    {
      "cell_type": "code",
      "metadata": {
        "id": "ZAng4Ur2qwJ_",
        "colab_type": "code",
        "colab": {
          "base_uri": "https://localhost:8080/",
          "height": 527
        },
        "outputId": "41c861e6-94f7-42b3-f4cc-7827b7f680e4"
      },
      "source": [
        "model = tf.keras.Sequential()\n",
        "model.add(tf.keras.layers.Conv2D(filters=32, kernel_size=(4, 4), activation='relu', input_shape=(80, 80, 1)))\n",
        "model.add(tf.keras.layers.MaxPooling2D(pool_size=2))\n",
        "model.add(tf.keras.layers.Conv2D(filters=64, kernel_size=(2, 2), activation='relu'))\n",
        "model.add(tf.keras.layers.MaxPooling2D(pool_size=2))\n",
        "model.add(tf.keras.layers.Conv2D(filters=64, kernel_size=(1, 1), activation='relu'))\n",
        "model.add(tf.keras.layers.MaxPooling2D(pool_size=2))\n",
        "\n",
        "model.add(tf.keras.layers.Flatten())\n",
        "model.add(tf.keras.layers.Dense(512, activation='relu'))\n",
        "model.add(tf.keras.layers.Dense(256, activation='relu'))\n",
        "model.add(tf.keras.layers.Dense(64, activation='relu'))\n",
        "model.add(tf.keras.layers.Dense(NUM_ACTIONS, activation='softmax'))\n",
        "\n",
        "model.summary()"
      ],
      "execution_count": 6,
      "outputs": [
        {
          "output_type": "stream",
          "text": [
            "Model: \"sequential\"\n",
            "_________________________________________________________________\n",
            "Layer (type)                 Output Shape              Param #   \n",
            "=================================================================\n",
            "conv2d (Conv2D)              (None, 77, 77, 32)        544       \n",
            "_________________________________________________________________\n",
            "max_pooling2d (MaxPooling2D) (None, 38, 38, 32)        0         \n",
            "_________________________________________________________________\n",
            "conv2d_1 (Conv2D)            (None, 37, 37, 64)        8256      \n",
            "_________________________________________________________________\n",
            "max_pooling2d_1 (MaxPooling2 (None, 18, 18, 64)        0         \n",
            "_________________________________________________________________\n",
            "conv2d_2 (Conv2D)            (None, 18, 18, 64)        4160      \n",
            "_________________________________________________________________\n",
            "max_pooling2d_2 (MaxPooling2 (None, 9, 9, 64)          0         \n",
            "_________________________________________________________________\n",
            "flatten (Flatten)            (None, 5184)              0         \n",
            "_________________________________________________________________\n",
            "dense (Dense)                (None, 512)               2654720   \n",
            "_________________________________________________________________\n",
            "dense_1 (Dense)              (None, 256)               131328    \n",
            "_________________________________________________________________\n",
            "dense_2 (Dense)              (None, 64)                16448     \n",
            "_________________________________________________________________\n",
            "dense_3 (Dense)              (None, 6)                 390       \n",
            "=================================================================\n",
            "Total params: 2,815,846\n",
            "Trainable params: 2,815,846\n",
            "Non-trainable params: 0\n",
            "_________________________________________________________________\n"
          ],
          "name": "stdout"
        }
      ]
    },
    {
      "cell_type": "code",
      "metadata": {
        "id": "D5lGpS7FqzOg",
        "colab_type": "code",
        "colab": {}
      },
      "source": [
        "def prepro(state):\n",
        "  \"\"\" 210x160x3 frame into 80x80 \"\"\"\n",
        "  test = 35\n",
        "  state = state[test:test+160] # crop - remove score and frame\n",
        "  state = state[::2,::2,0] # downsample by factor of 2.\n",
        "  state[state == 144] = 0 # erase background (background type 1)\n",
        "  state[state == 109] = 0 # erase background (background type 2)\n",
        "  state[state != 0] = 1 # everything else set to 1 for better moving look\n",
        "  \n",
        "  return state.astype(np.float32)"
      ],
      "execution_count": 7,
      "outputs": []
    },
    {
      "cell_type": "code",
      "metadata": {
        "id": "--zFKEdBqzxp",
        "colab_type": "code",
        "colab": {}
      },
      "source": [
        "def find_motion(s_old,s_new):\n",
        "  inp = 2*prepro(s_old)-prepro(s_new)\n",
        "  inp[inp == -1] = 1\n",
        "  inp[inp == 2] = 0.5\n",
        "  \n",
        "  return inp"
      ],
      "execution_count": 8,
      "outputs": []
    },
    {
      "cell_type": "code",
      "metadata": {
        "id": "_Y-ksLmoq199",
        "colab_type": "code",
        "colab": {}
      },
      "source": [
        "def evalQ(s_old,s_new):\n",
        "    inp = find_motion(s_old,s_new)\n",
        "    out = model(inp[None,...,None])\n",
        "    return out.numpy()[0]"
      ],
      "execution_count": 9,
      "outputs": []
    },
    {
      "cell_type": "code",
      "metadata": {
        "id": "d5VnxXE1tuRc",
        "colab_type": "code",
        "colab": {}
      },
      "source": [
        "# take a look, what NN sees\n",
        "def evalQ1(s_old,s_new):\n",
        "    inp = find_motion(s_old,s_new)\n",
        "    plt.imshow(inp, cmap=\"gray\")\n",
        "    plt.show()\n",
        "\n",
        "    out = model(inp[None,...,None])\n",
        "    return out.numpy()[0]"
      ],
      "execution_count": 10,
      "outputs": []
    },
    {
      "cell_type": "code",
      "metadata": {
        "id": "4EOpkGG4q3Wj",
        "colab_type": "code",
        "colab": {
          "base_uri": "https://localhost:8080/",
          "height": 51
        },
        "outputId": "fb1b8ffe-c1c9-4e78-f28e-6811d877f05f"
      },
      "source": [
        "def loss(q1, q2):\n",
        "    return tf.reduce_sum(tf.square(q1 - q2))\n",
        "\n",
        "optimizer = tf.keras.optimizers.SGD(learning_rate=lr)\n",
        "model.compile(loss=loss, optimizer=optimizer)\n",
        "%cd \"/content/drive/My Drive/pong/best_score\"\n",
        "# %cd \"/content/drive/My Drive/pong\"\n",
        "model.load_weights('pong_weights')"
      ],
      "execution_count": 11,
      "outputs": [
        {
          "output_type": "stream",
          "text": [
            "/content/drive/My Drive/pong/best_score\n"
          ],
          "name": "stdout"
        },
        {
          "output_type": "execute_result",
          "data": {
            "text/plain": [
              "<tensorflow.python.training.tracking.util.CheckpointLoadStatus at 0x7fb335fd8b70>"
            ]
          },
          "metadata": {
            "tags": []
          },
          "execution_count": 11
        }
      ]
    },
    {
      "cell_type": "code",
      "metadata": {
        "id": "uawGcnlIBGq-",
        "colab_type": "code",
        "colab": {}
      },
      "source": [
        "import matplotlib.pyplot as plt\n",
        "%matplotlib inline\n",
        "from IPython import display\n",
        "def show_state(env, step=0, info=\"\"):\n",
        "    plt.figure(3)\n",
        "    plt.clf()\n",
        "    plt.imshow(env.render(mode='rgb_array'))\n",
        "    # plt.title(\"%s | Step: %d %s\" % (env,step, info))\n",
        "    plt.axis('off')\n",
        "\n",
        "    display.clear_output(wait=True)\n",
        "    display.display(plt.gcf())\n",
        "    "
      ],
      "execution_count": 12,
      "outputs": []
    },
    {
      "cell_type": "code",
      "metadata": {
        "id": "108k6L0sq9xu",
        "colab_type": "code",
        "colab": {
          "base_uri": "https://localhost:8080/",
          "height": 1000
        },
        "outputId": "edbc9495-b8df-4afc-f49a-74ca5488709a"
      },
      "source": [
        "test_episodes = 2000\n",
        "for game_num in range(20):\n",
        "  totalReward = 0\n",
        "  s_old = np.zeros((210,160,3))\n",
        "  s_new = env.reset()\n",
        "  for i in range(test_episodes):\n",
        "      # if i%2==0:\n",
        "      #   show_state(env, i, \"\")\n",
        "      #   print(1)\n",
        "      a = np.argmax(evalQ(s_old,s_new)) \n",
        "      \n",
        "      s_old = s_new\n",
        "      s_new, r, done, __ = env.step(a)\n",
        "      totalReward += r\n",
        "      if done:\n",
        "          print('Game number {}. Total reward = {}'.format(game_num,totalReward))\n",
        "          if totalReward > -8:\n",
        "            plt.figure(figsize=(7, 7))\n",
        "            plt.imshow(s_new, cmap=\"gray\")\n",
        "            plt.show()\n",
        "\n",
        "          break\n",
        "      elif i==test_episodes-1:\n",
        "        print('Game number {}. Draw. Total reward = {}'.format(game_num,totalReward))\n",
        "        if totalReward > -8:\n",
        "          plt.figure(figsize=(7, 7))\n",
        "          plt.imshow(s_new, cmap=\"gray\")\n",
        "          plt.show()\n",
        "env.close()\n"
      ],
      "execution_count": 15,
      "outputs": [
        {
          "output_type": "stream",
          "text": [
            "Game number 0. Draw. Total reward = -7.0\n"
          ],
          "name": "stdout"
        },
        {
          "output_type": "display_data",
          "data": {
            "image/png": "[encoded data removed]",
            "text/plain": [
              "<Figure size 504x504 with 1 Axes>"
            ]
          },
          "metadata": {
            "tags": [],
            "needs_background": "light"
          }
        },
        {
          "output_type": "stream",
          "text": [
            "Game number 1. Draw. Total reward = -10.0\n",
            "Game number 2. Draw. Total reward = -9.0\n",
            "Game number 3. Draw. Total reward = -6.0\n"
          ],
          "name": "stdout"
        },
        {
          "output_type": "display_data",
          "data": {
            "image/png": "[encoded data removed]",
            "text/plain": [
              "<Figure size 504x504 with 1 Axes>"
            ]
          },
          "metadata": {
            "tags": [],
            "needs_background": "light"
          }
        },
        {
          "output_type": "stream",
          "text": [
            "Game number 4. Draw. Total reward = -8.0\n",
            "Game number 5. Draw. Total reward = -12.0\n",
            "Game number 6. Draw. Total reward = -9.0\n",
            "Game number 7. Draw. Total reward = -8.0\n",
            "Game number 8. Draw. Total reward = -8.0\n",
            "Game number 9. Draw. Total reward = -9.0\n",
            "Game number 10. Draw. Total reward = -8.0\n",
            "Game number 11. Draw. Total reward = -16.0\n",
            "Game number 12. Draw. Total reward = -13.0\n",
            "Game number 13. Draw. Total reward = -15.0\n",
            "Game number 14. Draw. Total reward = -5.0\n"
          ],
          "name": "stdout"
        },
        {
          "output_type": "display_data",
          "data": {
            "image/png": "[encoded data removed]",
            "text/plain": [
              "<Figure size 504x504 with 1 Axes>"
            ]
          },
          "metadata": {
            "tags": [],
            "needs_background": "light"
          }
        },
        {
          "output_type": "stream",
          "text": [
            "Game number 15. Draw. Total reward = -17.0\n",
            "Game number 16. Draw. Total reward = -8.0\n",
            "Game number 17. Draw. Total reward = -10.0\n",
            "Game number 18. Draw. Total reward = -7.0\n"
          ],
          "name": "stdout"
        },
        {
          "output_type": "display_data",
          "data": {
            "image/png": "[encoded data removed]",
            "text/plain": [
              "<Figure size 504x504 with 1 Axes>"
            ]
          },
          "metadata": {
            "tags": [],
            "needs_background": "light"
          }
        },
        {
          "output_type": "stream",
          "text": [
            "Game number 19. Draw. Total reward = -11.0\n"
          ],
          "name": "stdout"
        }
      ]
    }
  ]
}